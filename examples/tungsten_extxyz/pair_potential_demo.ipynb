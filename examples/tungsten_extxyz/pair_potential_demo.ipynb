{
 "cells": [
  {
   "cell_type": "code",
   "execution_count": 59,
   "metadata": {
    "ExecuteTime": {
     "end_time": "2022-07-23T21:52:33.270374Z",
     "start_time": "2022-07-23T21:52:33.255936Z"
    },
    "pycharm": {
     "name": "#%%\n"
    }
   },
   "outputs": [],
   "source": [
    "import os\n",
    "from concurrent.futures import ProcessPoolExecutor"
   ]
  },
  {
   "cell_type": "code",
   "execution_count": 60,
   "metadata": {
    "ExecuteTime": {
     "end_time": "2022-07-23T21:52:33.493793Z",
     "start_time": "2022-07-23T21:52:33.272204Z"
    },
    "pycharm": {
     "name": "#%%\n"
    }
   },
   "outputs": [],
   "source": [
    "import numpy as np\n",
    "import matplotlib.pyplot as plt"
   ]
  },
  {
   "cell_type": "code",
   "execution_count": 61,
   "metadata": {
    "ExecuteTime": {
     "end_time": "2022-07-23T21:52:34.486230Z",
     "start_time": "2022-07-23T21:52:33.494923Z"
    },
    "pycharm": {
     "name": "#%%\n"
    }
   },
   "outputs": [],
   "source": [
    "from uf3.data import io\n",
    "from uf3.data import geometry\n",
    "from uf3.data import composition\n",
    "from uf3.representation import bspline\n",
    "from uf3.representation import distances\n",
    "from uf3.representation import process\n",
    "from uf3.regression import least_squares\n",
    "from uf3.forcefield import calculator\n",
    "from uf3.forcefield import lammps\n",
    "from uf3.util import parallel\n",
    "from uf3.util import plotting"
   ]
  },
  {
   "cell_type": "markdown",
   "metadata": {
    "ExecuteTime": {
     "start_time": "2021-09-27T14:45:45.123Z"
    }
   },
   "source": [
    "# $\\text{UF}_{2}$ Demo: Elemental tungsten"
   ]
  },
  {
   "cell_type": "markdown",
   "metadata": {},
   "source": [
    "**Data split**\n",
    "- Training set: 1939 configurations (stratified 20% of the dataset)\n",
    "\n",
    "- Holdout: 7754 configurations (remaining 80%)"
   ]
  },
  {
   "cell_type": "markdown",
   "metadata": {},
   "source": [
    "**Inputs**\n",
    "- ```w-14.xyz``` (30 mb)\n",
    "- ```training_idx.txt``` (10 kb, included for reproducibility purposes)"
   ]
  },
  {
   "cell_type": "markdown",
   "metadata": {},
   "source": [
    "**Outputs**\n",
    "- ```model_pair.json``` (1 kb)\n",
    "- ```W_pair.table``` (32 kb)"
   ]
  },
  {
   "cell_type": "code",
   "execution_count": 62,
   "metadata": {
    "ExecuteTime": {
     "end_time": "2022-07-23T21:52:34.493555Z",
     "start_time": "2022-07-23T21:52:34.487669Z"
    }
   },
   "outputs": [
    {
     "data": {
      "text/html": [
       "<style>\n",
       "  table {margin-left: 0 !important;}\n",
       "</style>\n"
      ],
      "text/plain": [
       "<IPython.core.display.HTML object>"
      ]
     },
     "metadata": {},
     "output_type": "display_data"
    }
   ],
   "source": [
    "%%html\n",
    "<style>\n",
    "  table {margin-left: 0 !important;}\n",
    "</style>"
   ]
  },
  {
   "cell_type": "markdown",
   "metadata": {},
   "source": [
    " Step             | Estimated Time \n",
    ":-----------------|:--------------\n",
    "Preprocessing     | 10 seconds\n",
    "Pair distribution | 10 seconds\n",
    "Featurization     | 5 core-minutes (parallelizable)\n",
    "Training          | 1 second\n",
    "Prediction        | 1 second\n",
    "Plotting          | 9 seconds"
   ]
  },
  {
   "cell_type": "markdown",
   "metadata": {
    "pycharm": {
     "name": "#%% md\n"
    }
   },
   "source": [
    "# User Parameters\n",
    "\n",
    "```element_list (list)```: list of element symbols\n",
    "\n",
    "```degree (int)```: truncation of many-body expansion. A value of 2 yields a pair potential."
   ]
  },
  {
   "cell_type": "code",
   "execution_count": 63,
   "metadata": {
    "ExecuteTime": {
     "end_time": "2022-07-23T21:52:34.496913Z",
     "start_time": "2022-07-23T21:52:34.494563Z"
    },
    "pycharm": {
     "name": "#%%\n"
    }
   },
   "outputs": [],
   "source": [
    "element_list = ['W']\n",
    "degree = 2"
   ]
  },
  {
   "cell_type": "markdown",
   "metadata": {},
   "source": [
    "Initialize the ```ChemicalSystem``` and inspect interactions.\n",
    "\n",
    "Elements involved in each interactions are sorted by electronegativity."
   ]
  },
  {
   "cell_type": "code",
   "execution_count": 64,
   "metadata": {
    "ExecuteTime": {
     "end_time": "2022-07-23T21:52:34.501114Z",
     "start_time": "2022-07-23T21:52:34.497919Z"
    }
   },
   "outputs": [
    {
     "name": "stdout",
     "output_type": "stream",
     "text": [
      "ChemicalSystem:\n",
      "    Elements: ('W',)\n",
      "    Degree: 2\n",
      "    Pairs: [('W', 'W')]\n"
     ]
    }
   ],
   "source": [
    "chemical_system = composition.ChemicalSystem(element_list=element_list,\n",
    "                                             degree=degree)\n",
    "print(chemical_system)"
   ]
  },
  {
   "cell_type": "markdown",
   "metadata": {},
   "source": [
    "```r_min_map (dict)```: map of minimum pair distance per interaction (angstroms). \n",
    "    If unspecified, defaults to 1.0 for all interactions.\n",
    "    \n",
    "```r_max_map (dict)```: map of maximum pair distance per interaction (angstroms). \n",
    "    If unspecified, defaults to 6.0 angstroms for all interactions, which probably encompasses at least 2nd-nearest neighbors.\n",
    "    \n",
    "```resolution_map (dict)```: map of resolution (number of knot intervals) per interaction. \n",
    "    For the cubic basis, the number of basis functions equals three more than the number of knot intervals.\n",
    "    This is, in turn, negated by ```trailing_trim```.\n",
    "    If unspecified, defaults to 20 for all two-body interactions and 5 for three-body interactions.\n",
    "    \n",
    "```trailing_trim (int)```: number of trailing basis functions to trim, defaults to 3.\n",
    " - ```= 0```: hard cutoff at ```r_max```\n",
    " - ```= 1```: function goes to zero at ```r_max```\n",
    " - ```= 2```: first derivative goes to zero at ```r_max```\n",
    " - ```= 3```: second derivative goes to zero at ```r_max```\n",
    " \n",
    "```leading_trim (int)```: similar for leading basis functions (small distances)."
   ]
  },
  {
   "cell_type": "code",
   "execution_count": 65,
   "metadata": {
    "ExecuteTime": {
     "end_time": "2022-07-23T21:52:34.505384Z",
     "start_time": "2022-07-23T21:52:34.502347Z"
    },
    "pycharm": {
     "name": "#%%\n"
    }
   },
   "outputs": [],
   "source": [
    "r_min_map = {('W', 'W'): 0.001,\n",
    "            }\n",
    "r_max_map = {('W', 'W'): 5.5,\n",
    "            }\n",
    "resolution_map = {('W', 'W'): 15,\n",
    "                 }\n",
    "trailing_trim = 3\n",
    "leading_trim = 0"
   ]
  },
  {
   "cell_type": "markdown",
   "metadata": {},
   "source": [
    "# Demo parameters\n",
    "```n_cores```: number of workers to use in parallel for feature generation\n",
    "\n",
    "```data_filename```: filename of reference data including geometries, energies, forces, ...\n",
    "\n",
    "```training_1939```: list of integers corresponding to entries to use for training."
   ]
  },
  {
   "cell_type": "code",
   "execution_count": 66,
   "metadata": {
    "ExecuteTime": {
     "end_time": "2022-07-23T21:52:34.508308Z",
     "start_time": "2022-07-23T21:52:34.506302Z"
    }
   },
   "outputs": [],
   "source": [
    "n_cores = 4"
   ]
  },
  {
   "cell_type": "code",
   "execution_count": 67,
   "metadata": {
    "ExecuteTime": {
     "end_time": "2022-07-23T21:52:34.512596Z",
     "start_time": "2022-07-23T21:52:34.509290Z"
    }
   },
   "outputs": [],
   "source": [
    "example_directory = os.getcwd()\n",
    "data_filename = os.path.join(example_directory, \"w-14.xyz\")\n",
    "with open(os.path.join(example_directory, \"training_idx.txt\"), \"r\") as f:\n",
    "    training_1939 = [int(idx) for idx in f.read().splitlines()]"
   ]
  },
  {
   "cell_type": "markdown",
   "metadata": {},
   "source": [
    "# Initialize basis"
   ]
  },
  {
   "cell_type": "code",
   "execution_count": 68,
   "metadata": {
    "ExecuteTime": {
     "end_time": "2022-07-23T21:52:34.519592Z",
     "start_time": "2022-07-23T21:52:34.515074Z"
    }
   },
   "outputs": [
    {
     "name": "stdout",
     "output_type": "stream",
     "text": [
      "BSplineBasis:\n",
      "    Basis functions:\n",
      "        ('W', 'W'): 18\n",
      "ChemicalSystem:\n",
      "    Elements: ('W',)\n",
      "    Degree: 2\n",
      "    Pairs: [('W', 'W')]\n"
     ]
    }
   ],
   "source": [
    "bspline_config = bspline.BSplineBasis(chemical_system,\n",
    "                                      r_min_map=r_min_map,\n",
    "                                      r_max_map=r_max_map,\n",
    "                                      resolution_map=resolution_map,\n",
    "                                      leading_trim=leading_trim,\n",
    "                                      trailing_trim=trailing_trim)\n",
    "\n",
    "print(bspline_config)"
   ]
  },
  {
   "cell_type": "markdown",
   "metadata": {},
   "source": [
    "```bspline_config.get_interaction_partitions()``` yields the number of coefficients for each n-body interaction (one-body terms, two-body terms, three-body terms, ...) as well as the starting index in the coefficient vector for each interaction."
   ]
  },
  {
   "cell_type": "code",
   "execution_count": 69,
   "metadata": {
    "ExecuteTime": {
     "end_time": "2022-07-23T21:52:34.524130Z",
     "start_time": "2022-07-23T21:52:34.520742Z"
    }
   },
   "outputs": [
    {
     "data": {
      "text/plain": [
       "{'W': 1, ('W', 'W'): 18}"
      ]
     },
     "execution_count": 69,
     "metadata": {},
     "output_type": "execute_result"
    }
   ],
   "source": [
    "bspline_config.get_interaction_partitions()[0]"
   ]
  },
  {
   "cell_type": "code",
   "execution_count": 70,
   "metadata": {
    "ExecuteTime": {
     "end_time": "2022-07-23T21:52:34.528505Z",
     "start_time": "2022-07-23T21:52:34.525206Z"
    }
   },
   "outputs": [
    {
     "data": {
      "text/plain": [
       "{'W': 0, ('W', 'W'): 1}"
      ]
     },
     "execution_count": 70,
     "metadata": {},
     "output_type": "execute_result"
    }
   ],
   "source": [
    "bspline_config.get_interaction_partitions()[1]"
   ]
  },
  {
   "cell_type": "code",
   "execution_count": 71,
   "metadata": {
    "ExecuteTime": {
     "end_time": "2022-07-23T21:52:34.650185Z",
     "start_time": "2022-07-23T21:52:34.529576Z"
    }
   },
   "outputs": [
    {
     "data": {
      "text/plain": [
       "Text(0.5, 1.0, \"Basis functions: ('W', 'W')\")"
      ]
     },
     "execution_count": 71,
     "metadata": {},
     "output_type": "execute_result"
    },
    {
     "data": {
      "image/png": "[encoded data removed]",
      "text/plain": [
       "<Figure size 350x200 with 1 Axes>"
      ]
     },
     "metadata": {},
     "output_type": "display_data"
    }
   ],
   "source": [
    "pair = bspline_config.interactions_map[2][0]\n",
    "k_plot = bspline_config.knots_map[pair][: -3]\n",
    "c_plot = np.ones(len(k_plot) - 4)\n",
    "\n",
    "fig, ax = plt.subplots(figsize=(3.5, 2))\n",
    "plotting.visualize_basis_functions(c_plot, \n",
    "                                   k_plot,\n",
    "                                   ax=ax)\n",
    "plotting.visualize_pair_potential(c_plot,\n",
    "                                  k_plot,\n",
    "                                  color=\"black\",\n",
    "                                  ax=ax)\n",
    "plt.ylim(0, 1.1)\n",
    "plt.title(f\"Basis functions: {str(pair)}\")"
   ]
  },
  {
   "cell_type": "markdown",
   "metadata": {
    "pycharm": {
     "name": "#%% md\n"
    }
   },
   "source": [
    "# Load data"
   ]
  },
  {
   "cell_type": "code",
   "execution_count": 72,
   "metadata": {
    "ExecuteTime": {
     "end_time": "2022-07-23T21:52:44.656939Z",
     "start_time": "2022-07-23T21:52:34.651187Z"
    },
    "pycharm": {
     "name": "#%%\n"
    }
   },
   "outputs": [
    {
     "name": "stdout",
     "output_type": "stream",
     "text": [
      "Number of energies: 9693\n",
      "Number of forces: 475578\n"
     ]
    }
   ],
   "source": [
    "data_coordinator = io.DataCoordinator()\n",
    "data_coordinator.dataframe_from_trajectory(data_filename,\n",
    "                                           prefix='dft')\n",
    "df_data = data_coordinator.consolidate()\n",
    "print(\"Number of energies:\", len(df_data))\n",
    "print(\"Number of forces:\", int(np.sum(df_data[\"size\"]) * 3))"
   ]
  },
  {
   "cell_type": "code",
   "execution_count": 73,
   "metadata": {
    "ExecuteTime": {
     "end_time": "2022-07-23T21:52:44.670828Z",
     "start_time": "2022-07-23T21:52:44.658021Z"
    },
    "pycharm": {
     "name": "#%%\n"
    }
   },
   "outputs": [
    {
     "data": {
      "text/html": [
       "<div>\n",
       "<style scoped>\n",
       "    .dataframe tbody tr th:only-of-type {\n",
       "        vertical-align: middle;\n",
       "    }\n",
       "\n",
       "    .dataframe tbody tr th {\n",
       "        vertical-align: top;\n",
       "    }\n",
       "\n",
       "    .dataframe thead th {\n",
       "        text-align: right;\n",
       "    }\n",
       "</style>\n",
       "<table border=\"1\" class=\"dataframe\">\n",
       "  <thead>\n",
       "    <tr style=\"text-align: right;\">\n",
       "      <th></th>\n",
       "      <th>geometry</th>\n",
       "      <th>energy</th>\n",
       "      <th>fx</th>\n",
       "      <th>fy</th>\n",
       "      <th>fz</th>\n",
       "      <th>size</th>\n",
       "    </tr>\n",
       "  </thead>\n",
       "  <tbody>\n",
       "    <tr>\n",
       "      <th>dft_0</th>\n",
       "      <td>(Atom('W', [0.0, 0.0, 0.0], index=0))</td>\n",
       "      <td>-11.194835</td>\n",
       "      <td>[0.0]</td>\n",
       "      <td>[0.0]</td>\n",
       "      <td>[0.0]</td>\n",
       "      <td>1.0</td>\n",
       "    </tr>\n",
       "    <tr>\n",
       "      <th>dft_1</th>\n",
       "      <td>(Atom('W', [0.0, 0.0, 0.0], index=0))</td>\n",
       "      <td>-11.126991</td>\n",
       "      <td>[0.0]</td>\n",
       "      <td>[0.0]</td>\n",
       "      <td>[0.0]</td>\n",
       "      <td>1.0</td>\n",
       "    </tr>\n",
       "    <tr>\n",
       "      <th>dft_2</th>\n",
       "      <td>(Atom('W', [0.0, 0.0, 0.0], index=0))</td>\n",
       "      <td>-11.133282</td>\n",
       "      <td>[0.0]</td>\n",
       "      <td>[0.0]</td>\n",
       "      <td>[0.0]</td>\n",
       "      <td>1.0</td>\n",
       "    </tr>\n",
       "    <tr>\n",
       "      <th>dft_3</th>\n",
       "      <td>(Atom('W', [0.0, 0.0, 0.0], index=0))</td>\n",
       "      <td>-11.139626</td>\n",
       "      <td>[0.0]</td>\n",
       "      <td>[0.0]</td>\n",
       "      <td>[0.0]</td>\n",
       "      <td>1.0</td>\n",
       "    </tr>\n",
       "    <tr>\n",
       "      <th>dft_4</th>\n",
       "      <td>(Atom('W', [0.0, 0.0, 0.0], index=0))</td>\n",
       "      <td>-11.142003</td>\n",
       "      <td>[0.0]</td>\n",
       "      <td>[0.0]</td>\n",
       "      <td>[0.0]</td>\n",
       "      <td>1.0</td>\n",
       "    </tr>\n",
       "  </tbody>\n",
       "</table>\n",
       "</div>"
      ],
      "text/plain": [
       "                                    geometry     energy     fx     fy     fz   \n",
       "dft_0  (Atom('W', [0.0, 0.0, 0.0], index=0)) -11.194835  [0.0]  [0.0]  [0.0]  \\\n",
       "dft_1  (Atom('W', [0.0, 0.0, 0.0], index=0)) -11.126991  [0.0]  [0.0]  [0.0]   \n",
       "dft_2  (Atom('W', [0.0, 0.0, 0.0], index=0)) -11.133282  [0.0]  [0.0]  [0.0]   \n",
       "dft_3  (Atom('W', [0.0, 0.0, 0.0], index=0)) -11.139626  [0.0]  [0.0]  [0.0]   \n",
       "dft_4  (Atom('W', [0.0, 0.0, 0.0], index=0)) -11.142003  [0.0]  [0.0]  [0.0]   \n",
       "\n",
       "       size  \n",
       "dft_0   1.0  \n",
       "dft_1   1.0  \n",
       "dft_2   1.0  \n",
       "dft_3   1.0  \n",
       "dft_4   1.0  "
      ]
     },
     "execution_count": 73,
     "metadata": {},
     "output_type": "execute_result"
    }
   ],
   "source": [
    "df_data.head()"
   ]
  },
  {
   "cell_type": "markdown",
   "metadata": {},
   "source": [
    "# Examine pair distance distribution\n",
    "Useful step that serves as a sanity check for selected cutoffs and resolution."
   ]
  },
  {
   "cell_type": "code",
   "execution_count": 74,
   "metadata": {
    "ExecuteTime": {
     "end_time": "2022-07-23T21:52:44.723795Z",
     "start_time": "2022-07-23T21:52:44.672017Z"
    }
   },
   "outputs": [],
   "source": [
    "from uf3.data import analyze\n",
    "from tqdm.auto import tqdm"
   ]
  },
  {
   "cell_type": "code",
   "execution_count": 75,
   "metadata": {
    "ExecuteTime": {
     "end_time": "2022-07-23T21:52:44.728092Z",
     "start_time": "2022-07-23T21:52:44.725051Z"
    }
   },
   "outputs": [],
   "source": [
    "analyzer = analyze.DataAnalyzer(chemical_system, \n",
    "                                r_cut=10.0,\n",
    "                                bins=0.01)"
   ]
  },
  {
   "cell_type": "code",
   "execution_count": 76,
   "metadata": {
    "ExecuteTime": {
     "end_time": "2022-07-23T21:52:52.038433Z",
     "start_time": "2022-07-23T21:52:44.729220Z"
    }
   },
   "outputs": [
    {
     "data": {
      "application/vnd.jupyter.widget-view+json": {
       "model_id": "919fe9fe62284f32a345ac04da706578",
       "version_major": 2,
       "version_minor": 0
      },
      "text/plain": [
       "  0%|          | 0/1000 [00:00<?, ?it/s]"
      ]
     },
     "metadata": {},
     "output_type": "display_data"
    }
   ],
   "source": [
    "atoms_key = data_coordinator.atoms_key\n",
    "histogram_slice = np.random.choice(np.arange(len(df_data)),\n",
    "                                   min(1000, len(df_data)),\n",
    "                                   replace=False)\n",
    "df_slice = df_data[atoms_key].iloc[histogram_slice]\n",
    "analyzer.load_entries(df_slice)"
   ]
  },
  {
   "cell_type": "code",
   "execution_count": 77,
   "metadata": {
    "ExecuteTime": {
     "end_time": "2022-07-23T21:52:54.433420Z",
     "start_time": "2022-07-23T21:52:54.417085Z"
    }
   },
   "outputs": [
    {
     "name": "stdout",
     "output_type": "stream",
     "text": [
      "    Smallest observed: 1.93 angstroms\n",
      "    Suggested Cutoffs: [3.545 3.825 3.85  4.175 4.905 5.555 6.045 6.455 6.805 7.365 7.74  7.9\n",
      " 8.175 8.585 8.88  9.15 ]\n"
     ]
    }
   ],
   "source": [
    "analysis = analyzer.analyze(smooth=True,\n",
    "                            filter_width=101,\n",
    "                            filter_degree=3)"
   ]
  },
  {
   "cell_type": "code",
   "execution_count": 78,
   "metadata": {
    "ExecuteTime": {
     "end_time": "2022-07-23T21:52:55.864338Z",
     "start_time": "2022-07-23T21:52:54.556581Z"
    }
   },
   "outputs": [
    {
     "data": {
      "image/png": "[encoded data removed]",
      "text/plain": [
       "<Figure size 420x360 with 1 Axes>"
      ]
     },
     "metadata": {},
     "output_type": "display_data"
    }
   ],
   "source": [
    "canvases = plotting.plot_pair_distributions(analysis, show_cutoffs=False)\n",
    "for fig, ax in canvases:\n",
    "    fig.set_dpi(120)\n",
    "    fig.tight_layout()\n",
    "    # fig.show()"
   ]
  },
  {
   "cell_type": "markdown",
   "metadata": {
    "pycharm": {
     "name": "#%% md\n"
    }
   },
   "source": [
    "# Compute energy and force features"
   ]
  },
  {
   "cell_type": "code",
   "execution_count": 79,
   "metadata": {
    "ExecuteTime": {
     "end_time": "2022-07-23T20:34:30.265339Z",
     "start_time": "2022-07-23T20:34:30.262957Z"
    }
   },
   "outputs": [],
   "source": [
    "representation = process.BasisFeaturizer(bspline_config)"
   ]
  },
  {
   "cell_type": "code",
   "execution_count": 80,
   "metadata": {
    "ExecuteTime": {
     "end_time": "2022-07-23T20:34:30.273362Z",
     "start_time": "2022-07-23T20:34:30.266368Z"
    }
   },
   "outputs": [],
   "source": [
    "client = ProcessPoolExecutor(max_workers=n_cores)"
   ]
  },
  {
   "cell_type": "code",
   "execution_count": 81,
   "metadata": {
    "ExecuteTime": {
     "end_time": "2022-07-23T20:35:29.567430Z",
     "start_time": "2022-07-23T20:34:30.274347Z"
    }
   },
   "outputs": [
    {
     "data": {
      "application/vnd.jupyter.widget-view+json": {
       "model_id": "bafc636dbfbd4198b04775367ee18514",
       "version_major": 2,
       "version_minor": 0
      },
      "text/plain": [
       "  0%|          | 0/64 [00:00<?, ?it/s]"
      ]
     },
     "metadata": {},
     "output_type": "display_data"
    }
   ],
   "source": [
    "n_batches = n_cores * 16  # added granularity for more progress bar updates\n",
    "df_features = representation.evaluate_parallel(df_data,\n",
    "                                               client,\n",
    "                                               energy_key=data_coordinator.energy_key,\n",
    "                                               n_jobs=n_batches)"
   ]
  },
  {
   "cell_type": "code",
   "execution_count": 82,
   "metadata": {
    "ExecuteTime": {
     "end_time": "2022-07-23T20:35:29.590906Z",
     "start_time": "2022-07-23T20:35:29.569041Z"
    }
   },
   "outputs": [
    {
     "data": {
      "text/html": [
       "<div>\n",
       "<style scoped>\n",
       "    .dataframe tbody tr th:only-of-type {\n",
       "        vertical-align: middle;\n",
       "    }\n",
       "\n",
       "    .dataframe tbody tr th {\n",
       "        vertical-align: top;\n",
       "    }\n",
       "\n",
       "    .dataframe thead th {\n",
       "        text-align: right;\n",
       "    }\n",
       "</style>\n",
       "<table border=\"1\" class=\"dataframe\">\n",
       "  <thead>\n",
       "    <tr style=\"text-align: right;\">\n",
       "      <th></th>\n",
       "      <th></th>\n",
       "      <th>y</th>\n",
       "      <th>n_W</th>\n",
       "      <th>WW0</th>\n",
       "      <th>WW1</th>\n",
       "      <th>WW2</th>\n",
       "      <th>WW3</th>\n",
       "      <th>WW4</th>\n",
       "      <th>WW5</th>\n",
       "      <th>WW6</th>\n",
       "      <th>WW7</th>\n",
       "      <th>WW8</th>\n",
       "      <th>WW9</th>\n",
       "      <th>WW10</th>\n",
       "      <th>WW11</th>\n",
       "      <th>WW12</th>\n",
       "      <th>WW13</th>\n",
       "      <th>WW14</th>\n",
       "      <th>WW15</th>\n",
       "      <th>WW16</th>\n",
       "      <th>WW17</th>\n",
       "    </tr>\n",
       "  </thead>\n",
       "  <tbody>\n",
       "    <tr>\n",
       "      <th rowspan=\"4\" valign=\"top\">dft_0</th>\n",
       "      <th>energy</th>\n",
       "      <td>-11.194835</td>\n",
       "      <td>1.0</td>\n",
       "      <td>0.0</td>\n",
       "      <td>0.0</td>\n",
       "      <td>0.0</td>\n",
       "      <td>0.0</td>\n",
       "      <td>0.0</td>\n",
       "      <td>0.0</td>\n",
       "      <td>0.0</td>\n",
       "      <td>1.562682e-01</td>\n",
       "      <td>3.814984e+00</td>\n",
       "      <td>6.083338e+00</td>\n",
       "      <td>3.640668e+00</td>\n",
       "      <td>3.047422e-01</td>\n",
       "      <td>0.789208</td>\n",
       "      <td>7.261185e+00</td>\n",
       "      <td>4.845617e+00</td>\n",
       "      <td>0.0</td>\n",
       "      <td>0.0</td>\n",
       "      <td>0.0</td>\n",
       "    </tr>\n",
       "    <tr>\n",
       "      <th>fx_0</th>\n",
       "      <td>0.000000</td>\n",
       "      <td>0.0</td>\n",
       "      <td>-0.0</td>\n",
       "      <td>-0.0</td>\n",
       "      <td>-0.0</td>\n",
       "      <td>-0.0</td>\n",
       "      <td>-0.0</td>\n",
       "      <td>-0.0</td>\n",
       "      <td>-0.0</td>\n",
       "      <td>-0.000000e+00</td>\n",
       "      <td>-3.475846e-17</td>\n",
       "      <td>1.881809e-17</td>\n",
       "      <td>-7.720198e-17</td>\n",
       "      <td>-0.000000e+00</td>\n",
       "      <td>-0.000000</td>\n",
       "      <td>1.110223e-16</td>\n",
       "      <td>3.330669e-16</td>\n",
       "      <td>-0.0</td>\n",
       "      <td>-0.0</td>\n",
       "      <td>-0.0</td>\n",
       "    </tr>\n",
       "    <tr>\n",
       "      <th>fy_0</th>\n",
       "      <td>0.000000</td>\n",
       "      <td>0.0</td>\n",
       "      <td>-0.0</td>\n",
       "      <td>-0.0</td>\n",
       "      <td>-0.0</td>\n",
       "      <td>-0.0</td>\n",
       "      <td>-0.0</td>\n",
       "      <td>-0.0</td>\n",
       "      <td>-0.0</td>\n",
       "      <td>2.775558e-17</td>\n",
       "      <td>7.626384e-17</td>\n",
       "      <td>1.881809e-17</td>\n",
       "      <td>6.064743e-18</td>\n",
       "      <td>3.763120e-17</td>\n",
       "      <td>-0.000000</td>\n",
       "      <td>-0.000000e+00</td>\n",
       "      <td>7.771561e-16</td>\n",
       "      <td>-0.0</td>\n",
       "      <td>-0.0</td>\n",
       "      <td>-0.0</td>\n",
       "    </tr>\n",
       "    <tr>\n",
       "      <th>fz_0</th>\n",
       "      <td>0.000000</td>\n",
       "      <td>0.0</td>\n",
       "      <td>-0.0</td>\n",
       "      <td>-0.0</td>\n",
       "      <td>-0.0</td>\n",
       "      <td>-0.0</td>\n",
       "      <td>-0.0</td>\n",
       "      <td>-0.0</td>\n",
       "      <td>-0.0</td>\n",
       "      <td>-2.775558e-17</td>\n",
       "      <td>-0.000000e+00</td>\n",
       "      <td>-0.000000e+00</td>\n",
       "      <td>2.220446e-16</td>\n",
       "      <td>-0.000000e+00</td>\n",
       "      <td>-0.000000</td>\n",
       "      <td>-1.110223e-16</td>\n",
       "      <td>3.330669e-16</td>\n",
       "      <td>-0.0</td>\n",
       "      <td>-0.0</td>\n",
       "      <td>-0.0</td>\n",
       "    </tr>\n",
       "    <tr>\n",
       "      <th>dft_1</th>\n",
       "      <th>energy</th>\n",
       "      <td>-11.126991</td>\n",
       "      <td>1.0</td>\n",
       "      <td>0.0</td>\n",
       "      <td>0.0</td>\n",
       "      <td>0.0</td>\n",
       "      <td>0.0</td>\n",
       "      <td>0.0</td>\n",
       "      <td>0.0</td>\n",
       "      <td>0.0</td>\n",
       "      <td>8.745162e-02</td>\n",
       "      <td>3.148796e+00</td>\n",
       "      <td>6.107877e+00</td>\n",
       "      <td>4.016702e+00</td>\n",
       "      <td>6.389270e-01</td>\n",
       "      <td>0.442822</td>\n",
       "      <td>5.845941e+00</td>\n",
       "      <td>5.884295e+00</td>\n",
       "      <td>0.0</td>\n",
       "      <td>0.0</td>\n",
       "      <td>0.0</td>\n",
       "    </tr>\n",
       "  </tbody>\n",
       "</table>\n",
       "</div>"
      ],
      "text/plain": [
       "                      y  n_W  WW0  WW1  WW2  WW3  WW4  WW5  WW6           WW7   \n",
       "dft_0 energy -11.194835  1.0  0.0  0.0  0.0  0.0  0.0  0.0  0.0  1.562682e-01  \\\n",
       "      fx_0     0.000000  0.0 -0.0 -0.0 -0.0 -0.0 -0.0 -0.0 -0.0 -0.000000e+00   \n",
       "      fy_0     0.000000  0.0 -0.0 -0.0 -0.0 -0.0 -0.0 -0.0 -0.0  2.775558e-17   \n",
       "      fz_0     0.000000  0.0 -0.0 -0.0 -0.0 -0.0 -0.0 -0.0 -0.0 -2.775558e-17   \n",
       "dft_1 energy -11.126991  1.0  0.0  0.0  0.0  0.0  0.0  0.0  0.0  8.745162e-02   \n",
       "\n",
       "                       WW8           WW9          WW10          WW11   \n",
       "dft_0 energy  3.814984e+00  6.083338e+00  3.640668e+00  3.047422e-01  \\\n",
       "      fx_0   -3.475846e-17  1.881809e-17 -7.720198e-17 -0.000000e+00   \n",
       "      fy_0    7.626384e-17  1.881809e-17  6.064743e-18  3.763120e-17   \n",
       "      fz_0   -0.000000e+00 -0.000000e+00  2.220446e-16 -0.000000e+00   \n",
       "dft_1 energy  3.148796e+00  6.107877e+00  4.016702e+00  6.389270e-01   \n",
       "\n",
       "                  WW12          WW13          WW14  WW15  WW16  WW17  \n",
       "dft_0 energy  0.789208  7.261185e+00  4.845617e+00   0.0   0.0   0.0  \n",
       "      fx_0   -0.000000  1.110223e-16  3.330669e-16  -0.0  -0.0  -0.0  \n",
       "      fy_0   -0.000000 -0.000000e+00  7.771561e-16  -0.0  -0.0  -0.0  \n",
       "      fz_0   -0.000000 -1.110223e-16  3.330669e-16  -0.0  -0.0  -0.0  \n",
       "dft_1 energy  0.442822  5.845941e+00  5.884295e+00   0.0   0.0   0.0  "
      ]
     },
     "execution_count": 82,
     "metadata": {},
     "output_type": "execute_result"
    }
   ],
   "source": [
    "df_features.head()"
   ]
  },
  {
   "cell_type": "markdown",
   "metadata": {
    "ExecuteTime": {
     "start_time": "2021-09-27T03:31:28.871Z"
    }
   },
   "source": [
    "# Fit model\n",
    "Train with 20% of the dataset (1939 samples)"
   ]
  },
  {
   "cell_type": "code",
   "execution_count": 83,
   "metadata": {
    "ExecuteTime": {
     "end_time": "2022-07-23T20:35:29.624092Z",
     "start_time": "2022-07-23T20:35:29.592207Z"
    }
   },
   "outputs": [],
   "source": [
    "training_keys = df_data.index[training_1939]\n",
    "df_slice = df_features.loc[training_keys]\n",
    "n_elements = len(chemical_system.element_list)\n",
    "\n",
    "x_e, y_e, x_f, y_f = least_squares.dataframe_to_tuples(df_slice,\n",
    "                                                       n_elements=n_elements,\n",
    "                                                       energy_key=\"energy\")"
   ]
  },
  {
   "cell_type": "code",
   "execution_count": 84,
   "metadata": {
    "ExecuteTime": {
     "end_time": "2022-07-23T20:35:29.628652Z",
     "start_time": "2022-07-23T20:35:29.625114Z"
    }
   },
   "outputs": [],
   "source": [
    "regularizer = bspline_config.get_regularization_matrix(ridge_1b=1e-16,\n",
    "                                                       ridge_2b=1e-20,\n",
    "                                                       curvature_2b=1e-6)\n",
    "\n",
    "model = least_squares.WeightedLinearModel(bspline_config,\n",
    "                                          regularizer=regularizer)"
   ]
  },
  {
   "cell_type": "code",
   "execution_count": 85,
   "metadata": {
    "ExecuteTime": {
     "end_time": "2022-07-23T20:35:29.646786Z",
     "start_time": "2022-07-23T20:35:29.629918Z"
    }
   },
   "outputs": [],
   "source": [
    "model.fit(x_e, y_e, x_f, y_f, weight=0.8)"
   ]
  },
  {
   "cell_type": "code",
   "execution_count": 86,
   "metadata": {
    "ExecuteTime": {
     "end_time": "2022-07-23T20:35:29.654106Z",
     "start_time": "2022-07-23T20:35:29.650529Z"
    }
   },
   "outputs": [
    {
     "name": "stdout",
     "output_type": "stream",
     "text": [
      "('W', 'W') Correction: adjusted 5 coefficients.\n"
     ]
    }
   ],
   "source": [
    "pair = (\"W\", \"W\")\n",
    "\n",
    "r_target = analysis[\"lower_bounds\"][pair]\n",
    "model.fix_repulsion_2b(pair, \n",
    "                       r_target=r_target,\n",
    "                       min_curvature=0.0)"
   ]
  },
  {
   "cell_type": "code",
   "execution_count": 87,
   "metadata": {
    "ExecuteTime": {
     "end_time": "2022-07-23T20:35:29.753495Z",
     "start_time": "2022-07-23T20:35:29.655309Z"
    }
   },
   "outputs": [
    {
     "data": {
      "text/plain": [
       "<matplotlib.collections.LineCollection at 0x1535fcdf9060>"
      ]
     },
     "execution_count": 87,
     "metadata": {},
     "output_type": "execute_result"
    },
    {
     "data": {
      "image/png": "[encoded data removed]",
      "text/plain": [
       "<Figure size 640x480 with 1 Axes>"
      ]
     },
     "metadata": {},
     "output_type": "display_data"
    }
   ],
   "source": [
    "solutions = least_squares.arrange_coefficients(model.coefficients,\n",
    "                                               bspline_config)\n",
    "coefficients = solutions[(\"W\", \"W\")]\n",
    "knot_sequence = bspline_config.knots_map[(\"W\", \"W\")]\n",
    "fig, ax = plotting.visualize_splines(coefficients, knot_sequence)\n",
    "plt.vlines([0.0], -100, 100, color=\"orange\", linewidth=2)"
   ]
  },
  {
   "cell_type": "code",
   "execution_count": 88,
   "metadata": {
    "ExecuteTime": {
     "end_time": "2022-07-23T20:35:29.868087Z",
     "start_time": "2022-07-23T20:35:29.754718Z"
    }
   },
   "outputs": [
    {
     "data": {
      "text/plain": [
       "(-0.5, 0.5)"
      ]
     },
     "execution_count": 88,
     "metadata": {},
     "output_type": "execute_result"
    },
    {
     "data": {
      "image/png": "[encoded data removed]",
      "text/plain": [
       "<Figure size 640x480 with 1 Axes>"
      ]
     },
     "metadata": {},
     "output_type": "display_data"
    }
   ],
   "source": [
    "fig, ax = plotting.visualize_splines(coefficients, knot_sequence)\n",
    "plt.vlines([0.0], -1, 1, color=\"orange\", linewidth=2)\n",
    "ax.set_ylim(-0.5, 0.5)"
   ]
  },
  {
   "cell_type": "markdown",
   "metadata": {
    "ExecuteTime": {
     "end_time": "2021-09-27T04:15:40.920319Z",
     "start_time": "2021-09-27T04:15:40.917610Z"
    }
   },
   "source": [
    "# Prediction"
   ]
  },
  {
   "cell_type": "markdown",
   "metadata": {
    "ExecuteTime": {
     "end_time": "2022-07-09T00:03:45.680681Z",
     "start_time": "2022-07-09T00:03:45.667521Z"
    }
   },
   "source": [
    "predict with remaining 80% of dataset"
   ]
  },
  {
   "cell_type": "code",
   "execution_count": 89,
   "metadata": {
    "ExecuteTime": {
     "end_time": "2022-07-23T20:35:29.875378Z",
     "start_time": "2022-07-23T20:35:29.869120Z"
    }
   },
   "outputs": [],
   "source": [
    "holdout_keys = df_data.index.difference(training_keys)"
   ]
  },
  {
   "cell_type": "code",
   "execution_count": 90,
   "metadata": {
    "ExecuteTime": {
     "end_time": "2022-07-23T20:35:29.942469Z",
     "start_time": "2022-07-23T20:35:29.876475Z"
    }
   },
   "outputs": [],
   "source": [
    "df_holdout = df_features.loc[holdout_keys]\n",
    "x_e, y_e, x_f, y_f = least_squares.dataframe_to_tuples(df_holdout,\n",
    "                                                       n_elements=n_elements,\n",
    "                                                       energy_key=\"energy\")"
   ]
  },
  {
   "cell_type": "code",
   "execution_count": 91,
   "metadata": {
    "ExecuteTime": {
     "end_time": "2022-07-23T20:35:29.947779Z",
     "start_time": "2022-07-23T20:35:29.943547Z"
    }
   },
   "outputs": [],
   "source": [
    "p_e = model.predict(x_e)\n",
    "\n",
    "p_f = model.predict(x_f)"
   ]
  },
  {
   "cell_type": "code",
   "execution_count": 92,
   "metadata": {
    "ExecuteTime": {
     "end_time": "2022-07-23T20:35:29.953177Z",
     "start_time": "2022-07-23T20:35:29.948882Z"
    }
   },
   "outputs": [
    {
     "name": "stdout",
     "output_type": "stream",
     "text": [
      "Energy root-mean-square error: 21.39 meV/atom\n",
      "Force component root-mean-square error: 328.31 meV/angstrom\n"
     ]
    }
   ],
   "source": [
    "rmse_e = np.sqrt(np.mean(np.subtract(y_e, p_e)**2))\n",
    "rmse_f = np.sqrt(np.mean(np.subtract(y_f, p_f)**2))\n",
    "print(f\"Energy root-mean-square error: {1000 * rmse_e:.2f} meV/atom\")\n",
    "print(f\"Force component root-mean-square error: {1000 * rmse_f:.2f} meV/angstrom\")"
   ]
  },
  {
   "cell_type": "code",
   "execution_count": 93,
   "metadata": {
    "ExecuteTime": {
     "end_time": "2022-07-23T20:35:30.261176Z",
     "start_time": "2022-07-23T20:35:29.954245Z"
    }
   },
   "outputs": [
    {
     "data": {
      "image/png": "[encoded data removed]",
      "text/plain": [
       "<Figure size 640x480 with 1 Axes>"
      ]
     },
     "metadata": {},
     "output_type": "display_data"
    }
   ],
   "source": [
    "plotting.density_scatter(y_e, p_e)\n",
    "plt.tight_layout()"
   ]
  },
  {
   "cell_type": "code",
   "execution_count": 94,
   "metadata": {
    "ExecuteTime": {
     "end_time": "2022-07-23T20:35:39.243684Z",
     "start_time": "2022-07-23T20:35:30.262279Z"
    }
   },
   "outputs": [
    {
     "data": {
      "image/png": "[encoded data removed]",
      "text/plain": [
       "<Figure size 640x480 with 1 Axes>"
      ]
     },
     "metadata": {},
     "output_type": "display_data"
    }
   ],
   "source": [
    "plotting.density_scatter(y_f, p_f)\n",
    "plt.tight_layout()"
   ]
  },
  {
   "cell_type": "markdown",
   "metadata": {},
   "source": [
    "# Retrain with sample weights\n",
    "Provide per-sample weighting to influence the fit.\n",
    "\n",
    "If sample_weights is provided, each training sample, including energy and\n",
    "force component representations, is scaled by the weight. Missing keys\n",
    "are not weighted (scaled by 1.0)."
   ]
  },
  {
   "cell_type": "code",
   "execution_count": 95,
   "metadata": {
    "ExecuteTime": {
     "end_time": "2022-07-23T20:35:39.248178Z",
     "start_time": "2022-07-23T20:35:39.244750Z"
    }
   },
   "outputs": [],
   "source": [
    "sample_weights = {}\n",
    "df_training = df_data.loc[training_keys]"
   ]
  },
  {
   "cell_type": "markdown",
   "metadata": {},
   "source": [
    "Example: increase the influence of small configurations on the fit \n",
    "(less than 10 atoms) by a factor of two."
   ]
  },
  {
   "cell_type": "code",
   "execution_count": 96,
   "metadata": {
    "ExecuteTime": {
     "end_time": "2022-07-23T20:35:39.258733Z",
     "start_time": "2022-07-23T20:35:39.249582Z"
    }
   },
   "outputs": [
    {
     "name": "stdout",
     "output_type": "stream",
     "text": [
      "406 samples upweighted.\n"
     ]
    }
   ],
   "source": [
    "for key, size in df_training[[\"size\"]].itertuples():\n",
    "    if size < 10:\n",
    "        sample_weights[key] = 2.0        \n",
    "print(len(sample_weights), \"samples upweighted.\")"
   ]
  },
  {
   "cell_type": "markdown",
   "metadata": {},
   "source": [
    "Example: reduce the influence of configurations with large forces\n",
    "by factors inversely proportional to their maximum force."
   ]
  },
  {
   "cell_type": "code",
   "execution_count": 97,
   "metadata": {
    "ExecuteTime": {
     "end_time": "2022-07-23T20:35:39.290953Z",
     "start_time": "2022-07-23T20:35:39.259706Z"
    }
   },
   "outputs": [
    {
     "name": "stdout",
     "output_type": "stream",
     "text": [
      "dft_5565: 0.65\n",
      "dft_8296: 0.99\n",
      "dft_5345: 0.49\n",
      "dft_6358: 0.84\n",
      "dft_7920: 0.95\n",
      "dft_6747: 0.96\n",
      "dft_6150: 0.72\n",
      "dft_5126: 0.91\n",
      "dft_6314: 0.94\n",
      "dft_5175: 0.78\n",
      "dft_5385: 0.89\n",
      "dft_7985: 0.56\n",
      "dft_5748: 0.66\n",
      "dft_6590: 0.92\n",
      "dft_5745: 0.87\n",
      "dft_5325: 0.77\n",
      "dft_5560: 0.90\n",
      "423 samples downweighted.\n"
     ]
    }
   ],
   "source": [
    "for key, fx, fy, fz in df_training[[\"fx\", \"fy\", \"fz\"]].itertuples():\n",
    "    force_array = np.vstack([fx, fy, fz]).T\n",
    "    max_force = np.max(force_array)\n",
    "    if max_force > 10:\n",
    "        scale = 10 / max_force\n",
    "        sample_weights[key] = scale\n",
    "        print(f\"{key}: {scale:.2f}\")\n",
    "print(len(sample_weights), \"samples downweighted.\")"
   ]
  },
  {
   "cell_type": "code",
   "execution_count": 98,
   "metadata": {
    "ExecuteTime": {
     "end_time": "2022-07-23T20:35:39.333767Z",
     "start_time": "2022-07-23T20:35:39.291825Z"
    }
   },
   "outputs": [],
   "source": [
    "training_keys = df_data.index[training_1939]\n",
    "df_slice = df_features.loc[training_keys]\n",
    "n_elements = len(chemical_system.element_list)\n",
    "\n",
    "x_e, y_e, x_f, y_f = least_squares.dataframe_to_tuples(df_slice,\n",
    "                                                       n_elements=n_elements,\n",
    "                                                       energy_key=\"energy\",\n",
    "                                                       sample_weights=sample_weights)"
   ]
  },
  {
   "cell_type": "code",
   "execution_count": 99,
   "metadata": {
    "ExecuteTime": {
     "end_time": "2022-07-23T20:35:39.337372Z",
     "start_time": "2022-07-23T20:35:39.334853Z"
    }
   },
   "outputs": [],
   "source": [
    "regularizer = bspline_config.get_regularization_matrix(ridge_1b=1e-16,\n",
    "                                                       ridge_2b=1e-20,\n",
    "                                                       curvature_2b=1e-6)\n",
    "\n",
    "model = least_squares.WeightedLinearModel(bspline_config,\n",
    "                                          regularizer=regularizer)"
   ]
  },
  {
   "cell_type": "code",
   "execution_count": 117,
   "metadata": {
    "ExecuteTime": {
     "end_time": "2022-07-23T20:35:39.354236Z",
     "start_time": "2022-07-23T20:35:39.338317Z"
    }
   },
   "outputs": [],
   "source": [
    "model.fit(x_e, y_e, x_f, y_f, weight=0.8)"
   ]
  },
  {
   "cell_type": "code",
   "execution_count": 118,
   "metadata": {
    "ExecuteTime": {
     "end_time": "2022-07-23T20:35:39.358852Z",
     "start_time": "2022-07-23T20:35:39.355431Z"
    }
   },
   "outputs": [
    {
     "name": "stdout",
     "output_type": "stream",
     "text": [
      "('W', 'W') Correction: adjusted 5 coefficients.\n"
     ]
    }
   ],
   "source": [
    "pair = (\"W\", \"W\")\n",
    "\n",
    "r_target = analysis[\"lower_bounds\"][pair]\n",
    "model.fix_repulsion_2b(pair, \n",
    "                       r_target=r_target,\n",
    "                       min_curvature=0.0)"
   ]
  },
  {
   "cell_type": "code",
   "execution_count": 119,
   "metadata": {
    "ExecuteTime": {
     "end_time": "2022-07-23T20:35:39.484095Z",
     "start_time": "2022-07-23T20:35:39.360316Z"
    }
   },
   "outputs": [
    {
     "data": {
      "text/plain": [
       "<matplotlib.collections.LineCollection at 0x1535fcdef940>"
      ]
     },
     "execution_count": 119,
     "metadata": {},
     "output_type": "execute_result"
    },
    {
     "data": {
      "image/png": "[encoded data removed]",
      "text/plain": [
       "<Figure size 640x480 with 1 Axes>"
      ]
     },
     "metadata": {},
     "output_type": "display_data"
    }
   ],
   "source": [
    "solutions = least_squares.arrange_coefficients(model.coefficients,\n",
    "                                               bspline_config)\n",
    "coefficients = solutions[(\"W\", \"W\")]\n",
    "knot_sequence = bspline_config.knots_map[(\"W\", \"W\")]\n",
    "fig, ax = plotting.visualize_splines(coefficients, knot_sequence)\n",
    "plt.vlines([0.0], -100, 100, color=\"orange\", linewidth=2)"
   ]
  },
  {
   "cell_type": "code",
   "execution_count": 120,
   "metadata": {
    "ExecuteTime": {
     "end_time": "2022-07-23T20:35:39.592264Z",
     "start_time": "2022-07-23T20:35:39.485302Z"
    }
   },
   "outputs": [
    {
     "data": {
      "text/plain": [
       "(-0.5, 0.5)"
      ]
     },
     "execution_count": 120,
     "metadata": {},
     "output_type": "execute_result"
    },
    {
     "data": {
      "image/png": "[encoded data removed]",
      "text/plain": [
       "<Figure size 640x480 with 1 Axes>"
      ]
     },
     "metadata": {},
     "output_type": "display_data"
    }
   ],
   "source": [
    "fig, ax = plotting.visualize_splines(coefficients, knot_sequence)\n",
    "plt.vlines([0.0], -1, 1, color=\"orange\", linewidth=2)\n",
    "ax.set_ylim(-0.5, 0.5)"
   ]
  },
  {
   "cell_type": "code",
   "execution_count": 121,
   "metadata": {
    "ExecuteTime": {
     "end_time": "2022-07-23T20:35:39.656615Z",
     "start_time": "2022-07-23T20:35:39.593290Z"
    }
   },
   "outputs": [],
   "source": [
    "df_holdout = df_features.loc[holdout_keys]\n",
    "x_e, y_e, x_f, y_f = least_squares.dataframe_to_tuples(df_holdout,\n",
    "                                                       n_elements=n_elements,\n",
    "                                                       energy_key=\"energy\")"
   ]
  },
  {
   "cell_type": "code",
   "execution_count": 122,
   "metadata": {
    "ExecuteTime": {
     "end_time": "2022-07-23T20:35:39.665879Z",
     "start_time": "2022-07-23T20:35:39.657612Z"
    }
   },
   "outputs": [],
   "source": [
    "p_e = model.predict(x_e)\n",
    "\n",
    "p_f = model.predict(x_f)"
   ]
  },
  {
   "cell_type": "code",
   "execution_count": 123,
   "metadata": {
    "ExecuteTime": {
     "end_time": "2022-07-23T20:35:39.671634Z",
     "start_time": "2022-07-23T20:35:39.666972Z"
    }
   },
   "outputs": [
    {
     "name": "stdout",
     "output_type": "stream",
     "text": [
      "Energy root-mean-square error: 21.33 meV/atom\n",
      "Force component root-mean-square error: 327.52 meV/angstrom\n"
     ]
    }
   ],
   "source": [
    "rmse_e = np.sqrt(np.mean(np.subtract(y_e, p_e)**2))\n",
    "rmse_f = np.sqrt(np.mean(np.subtract(y_f, p_f)**2))\n",
    "print(f\"Energy root-mean-square error: {1000 * rmse_e:.2f} meV/atom\")\n",
    "print(f\"Force component root-mean-square error: {1000 * rmse_f:.2f} meV/angstrom\")"
   ]
  },
  {
   "cell_type": "markdown",
   "metadata": {},
   "source": [
    "# Model to/from dictionary"
   ]
  },
  {
   "cell_type": "code",
   "execution_count": 124,
   "metadata": {
    "ExecuteTime": {
     "end_time": "2022-07-23T20:35:39.677798Z",
     "start_time": "2022-07-23T20:35:39.672936Z"
    }
   },
   "outputs": [
    {
     "data": {
      "text/plain": [
       "{'coefficients': {'W': -7.2352450354464155,\n",
       "  ('W',\n",
       "   'W'): array([ 6.57200924e+01,  6.57200924e+01,  4.66068354e+01,  3.08040136e+01,\n",
       "          1.83116270e+01,  8.81757399e+00,  2.62821722e+00,  2.53058637e-01,\n",
       "         -2.31646539e-01, -3.31349838e-01, -2.56245547e-01, -2.28975508e-02,\n",
       "         -2.01016077e-02, -2.62542778e-02,  8.67278415e-03,  0.00000000e+00,\n",
       "          0.00000000e+00,  0.00000000e+00])},\n",
       " 'knots': {('W',\n",
       "   'W'): array([1.0000e-03, 1.0000e-03, 1.0000e-03, 1.0000e-03, 3.6760e-01,\n",
       "         7.3420e-01, 1.1008e+00, 1.4674e+00, 1.8340e+00, 2.2006e+00,\n",
       "         2.5672e+00, 2.9338e+00, 3.3004e+00, 3.6670e+00, 4.0336e+00,\n",
       "         4.4002e+00, 4.7668e+00, 5.1334e+00, 5.5000e+00, 5.5000e+00,\n",
       "         5.5000e+00, 5.5000e+00])},\n",
       " 'data_coverage': array([ True, False, False, False, False, False,  True,  True,  True,\n",
       "         True,  True,  True,  True,  True,  True,  True, False, False,\n",
       "        False]),\n",
       " 'knot_strategy': 'linear',\n",
       " 'offset_1b': True,\n",
       " 'leading_trim': 0,\n",
       " 'trailing_trim': 3,\n",
       " 'knots_map': {('W',\n",
       "   'W'): array([1.0000e-03, 1.0000e-03, 1.0000e-03, 1.0000e-03, 3.6760e-01,\n",
       "         7.3420e-01, 1.1008e+00, 1.4674e+00, 1.8340e+00, 2.2006e+00,\n",
       "         2.5672e+00, 2.9338e+00, 3.3004e+00, 3.6670e+00, 4.0336e+00,\n",
       "         4.4002e+00, 4.7668e+00, 5.1334e+00, 5.5000e+00, 5.5000e+00,\n",
       "         5.5000e+00, 5.5000e+00])},\n",
       " 'element_list': ('W',),\n",
       " 'degree': 2}"
      ]
     },
     "execution_count": 124,
     "metadata": {},
     "output_type": "execute_result"
    }
   ],
   "source": [
    "dump = model.as_dict()\n",
    "dump"
   ]
  },
  {
   "cell_type": "code",
   "execution_count": 125,
   "metadata": {
    "ExecuteTime": {
     "end_time": "2022-07-23T20:35:39.682828Z",
     "start_time": "2022-07-23T20:35:39.678911Z"
    }
   },
   "outputs": [],
   "source": [
    "model_copy = least_squares.WeightedLinearModel.from_dict(dump)"
   ]
  },
  {
   "cell_type": "code",
   "execution_count": 126,
   "metadata": {
    "ExecuteTime": {
     "end_time": "2022-07-23T20:35:39.687157Z",
     "start_time": "2022-07-23T20:35:39.683951Z"
    }
   },
   "outputs": [
    {
     "data": {
      "text/plain": [
       "WeightedLinearModel:\n",
       "    Fit: True\n",
       "BSplineBasis:\n",
       "    Basis functions:\n",
       "        ('W', 'W'): 18\n",
       "ChemicalSystem:\n",
       "    Elements: ('W',)\n",
       "    Degree: 2\n",
       "    Pairs: [('W', 'W')]"
      ]
     },
     "execution_count": 126,
     "metadata": {},
     "output_type": "execute_result"
    }
   ],
   "source": [
    "model_copy"
   ]
  },
  {
   "cell_type": "code",
   "execution_count": 127,
   "metadata": {
    "ExecuteTime": {
     "end_time": "2022-07-23T20:35:39.690649Z",
     "start_time": "2022-07-23T20:35:39.688258Z"
    }
   },
   "outputs": [],
   "source": [
    "assert np.allclose(model_copy.coefficients, model.coefficients)"
   ]
  },
  {
   "cell_type": "markdown",
   "metadata": {},
   "source": [
    "# Save to and load from file"
   ]
  },
  {
   "cell_type": "code",
   "execution_count": 128,
   "metadata": {
    "ExecuteTime": {
     "end_time": "2022-07-23T20:35:39.696547Z",
     "start_time": "2022-07-23T20:35:39.691693Z"
    }
   },
   "outputs": [],
   "source": [
    "filename = \"model_2.json\"\n",
    "model.to_json(filename)\n",
    "loaded_model = least_squares.WeightedLinearModel.from_json(filename)"
   ]
  },
  {
   "cell_type": "code",
   "execution_count": 129,
   "metadata": {
    "ExecuteTime": {
     "end_time": "2022-07-23T20:35:39.701239Z",
     "start_time": "2022-07-23T20:35:39.697919Z"
    }
   },
   "outputs": [
    {
     "data": {
      "text/plain": [
       "WeightedLinearModel:\n",
       "    Fit: True\n",
       "BSplineBasis:\n",
       "    Basis functions:\n",
       "        ('W', 'W'): 18\n",
       "ChemicalSystem:\n",
       "    Elements: ('W',)\n",
       "    Degree: 2\n",
       "    Pairs: [('W', 'W')]"
      ]
     },
     "execution_count": 129,
     "metadata": {},
     "output_type": "execute_result"
    }
   ],
   "source": [
    "loaded_model"
   ]
  },
  {
   "cell_type": "code",
   "execution_count": 130,
   "metadata": {
    "ExecuteTime": {
     "end_time": "2022-07-23T20:35:39.704889Z",
     "start_time": "2022-07-23T20:35:39.702375Z"
    }
   },
   "outputs": [],
   "source": [
    "assert np.allclose(loaded_model.coefficients, model.coefficients)"
   ]
  },
  {
   "cell_type": "markdown",
   "metadata": {},
   "source": [
    "# Compute energy, forces, stress with UFCalculator"
   ]
  },
  {
   "cell_type": "code",
   "execution_count": 131,
   "metadata": {
    "ExecuteTime": {
     "end_time": "2022-07-23T20:35:39.761421Z",
     "start_time": "2022-07-23T20:35:39.706105Z"
    }
   },
   "outputs": [
    {
     "name": "stdout",
     "output_type": "stream",
     "text": [
      "Energy: -129.89306456990133\n",
      "Stresses (numerical): [-0.05314336 -0.02927084 -0.03109436  0.00290419 -0.01752873 -0.03405408]\n",
      "Forces:\n",
      " [[-0.52927003  7.03571451 -0.56107769]\n",
      " [-1.40982322 -0.54866241  0.52186274]\n",
      " [ 1.299312    1.60747226  0.41169206]\n",
      " [ 1.72485245 -5.66393557  0.42133488]\n",
      " [-0.60009971 -2.37264716 -1.18381255]\n",
      " [-1.99303876  2.41912169  0.82388857]\n",
      " [-2.29517661 -1.64817531  0.74117295]\n",
      " [ 1.4693047   0.83953114 -0.98563546]\n",
      " [ 2.21172791 -0.02436785 -0.11174267]\n",
      " [-0.03994002 -5.32044051  0.01342895]\n",
      " [-1.72803     3.473602    0.24391129]\n",
      " [ 1.89018129  0.20278721 -0.33502307]]\n",
      "Max force: 7.035714509722446\n"
     ]
    }
   ],
   "source": [
    "calc = calculator.UFCalculator(model)\n",
    "\n",
    "geom = df_data.iloc[3000]['geometry'].copy()  # 12-atom cell\n",
    "geom.set_calculator(calc)\n",
    "print(\"Energy:\", geom.get_potential_energy())\n",
    "print(\"Stresses (numerical):\", geom.get_stress())\n",
    "print(\"Forces:\\n\", geom.get_forces())\n",
    "print(\"Max force:\", np.max(np.abs(geom.get_forces())))"
   ]
  },
  {
   "cell_type": "markdown",
   "metadata": {
    "pycharm": {
     "name": "#%% md\n"
    }
   },
   "source": [
    "# Relax with UFCalculator"
   ]
  },
  {
   "cell_type": "code",
   "execution_count": 132,
   "metadata": {
    "ExecuteTime": {
     "end_time": "2022-07-23T20:35:44.990947Z",
     "start_time": "2022-07-23T20:35:39.762497Z"
    },
    "pycharm": {
     "name": "#%%\n"
    }
   },
   "outputs": [
    {
     "name": "stdout",
     "output_type": "stream",
     "text": [
      "                Step[ FC]     Time          Energy          fmax\n",
      "*Force-consistent energies used in optimization.\n",
      "BFGSLineSearch:    0[  2] 18:09:57      -43.577600*      12.2019\n",
      "BFGSLineSearch:    1[  5] 18:09:57      -46.004195*      13.6038\n",
      "BFGSLineSearch:    2[  9] 18:09:57      -46.389514*       7.5099\n",
      "BFGSLineSearch:    3[ 13] 18:09:58      -46.622479*       2.0108\n",
      "BFGSLineSearch:    4[ 17] 18:09:58      -46.665210*       0.9475\n",
      "BFGSLineSearch:    5[ 20] 18:09:59      -46.825773*       5.4496\n",
      "BFGSLineSearch:    6[ 23] 18:09:59      -47.109661*       5.8502\n",
      "BFGSLineSearch:    7[ 26] 18:09:59      -47.542314*       0.5822\n",
      "BFGSLineSearch:    8[ 28] 18:10:00      -47.575901*       0.1875\n",
      "BFGSLineSearch:    9[ 30] 18:10:00      -47.579388*       0.0809\n",
      "BFGSLineSearch:   10[ 34] 18:10:01      -47.579661*       0.0110\n"
     ]
    }
   ],
   "source": [
    "geom_relaxed = calc.relax_fmax(geom, verbose=True)"
   ]
  },
  {
   "cell_type": "code",
   "execution_count": 133,
   "metadata": {
    "ExecuteTime": {
     "end_time": "2022-07-23T20:35:45.041963Z",
     "start_time": "2022-07-23T20:35:44.991934Z"
    },
    "pycharm": {
     "name": "#%%\n"
    }
   },
   "outputs": [
    {
     "name": "stdout",
     "output_type": "stream",
     "text": [
      "Energy: -134.40261767415365\n",
      "Stresses (numerical): [-1.24083010e-05 -1.84075216e-05 -2.24932775e-05 -1.73211350e-05\n",
      " -2.94061203e-05  2.44835468e-06]\n",
      "Forces:\n",
      " [[-2.68418546e-03 -8.24200896e-04  1.72333454e-03]\n",
      " [-2.42475453e-03 -5.88233586e-06 -2.17665411e-03]\n",
      " [ 1.78044010e-03  1.89251624e-03 -6.83467536e-04]\n",
      " [ 3.06331487e-03 -2.42574790e-03  7.99013447e-04]\n",
      " [-2.82735832e-03  4.01005728e-03  8.07009324e-04]\n",
      " [ 1.96490447e-04 -5.57486981e-04  3.25771006e-04]\n",
      " [ 3.28864629e-03  2.64454119e-03 -1.53127581e-03]\n",
      " [ 1.43054190e-03  1.80229998e-03 -1.61157406e-03]\n",
      " [-1.20257307e-03  5.74717946e-04  2.29153711e-03]\n",
      " [ 3.02109954e-03 -9.43199347e-04 -7.94492286e-04]\n",
      " [-1.70607037e-03 -3.58549251e-03  7.99028288e-04]\n",
      " [-1.93559139e-03 -2.58212267e-03  5.17700743e-05]]\n",
      "Max force: 0.004010057282199516\n"
     ]
    }
   ],
   "source": [
    "print(\"Energy:\", geom_relaxed.get_potential_energy())\n",
    "print(\"Stresses (numerical):\", geom_relaxed.get_stress())\n",
    "forces = geom_relaxed.get_forces()\n",
    "print(\"Forces:\\n\", forces)\n",
    "print(\"Max force:\", np.max(forces))"
   ]
  },
  {
   "cell_type": "markdown",
   "metadata": {
    "pycharm": {
     "name": "#%% md\n"
    }
   },
   "source": [
    "# Export potential and tabulated potential"
   ]
  },
  {
   "cell_type": "code",
   "execution_count": 59,
   "metadata": {
    "ExecuteTime": {
     "end_time": "2022-07-23T20:35:45.108612Z",
     "start_time": "2022-07-23T20:35:45.043052Z"
    }
   },
   "outputs": [],
   "source": [
    "table_list = []\n",
    "pair_list = chemical_system.interactions_map[2]\n",
    "for pair in pair_list:\n",
    "    text = lammps.export_tabulated_potential(representation.knots_map[pair],\n",
    "                                             solutions[pair],\n",
    "                                             pair,\n",
    "                                             grid=1000,\n",
    "                                             filename=None)\n",
    "    table_list.append(text)\n",
    "combined_text = \"\\n\\n\\n\".join(table_list)\n",
    "table_name = os.path.join(example_directory, \"table_test\", \"W.table\")\n",
    "with open(table_name, \"w\") as f:\n",
    "    f.write(combined_text)"
   ]
  },
  {
   "cell_type": "markdown",
   "metadata": {
    "pycharm": {
     "name": "#%%\n"
    }
   },
   "source": [
    "# Compute energy, forces, stress with UFLAMMPS"
   ]
  },
  {
   "cell_type": "markdown",
   "metadata": {},
   "source": [
    "**Remember to set the environment variable ``ASE_LAMMPSRUN_COMMAND``**"
   ]
  },
  {
   "cell_type": "code",
   "execution_count": 60,
   "metadata": {
    "ExecuteTime": {
     "end_time": "2022-07-23T20:35:48.156855Z",
     "start_time": "2022-07-23T20:35:45.109915Z"
    }
   },
   "outputs": [
    {
     "name": "stdout",
     "output_type": "stream",
     "text": [
      "Energy: -37.16372789033476\n",
      "Stresses (numerical): [-0.06135807 -0.03453647 -0.03054176  0.00298838 -0.01784529 -0.0337337 ]\n",
      "Forces:\n",
      " [[-0.4329519   6.73603289 -0.58333216]\n",
      " [-1.33292957 -0.42635554  0.53194987]\n",
      " [ 1.35787476  1.43996937  0.41931314]\n",
      " [ 1.68800081 -5.34581733  0.41422204]\n",
      " [-0.7167178  -2.26258662 -1.20471951]\n",
      " [-1.91111412  2.27644512  0.82348623]\n",
      " [-2.17765939 -1.53650329  0.74938347]\n",
      " [ 1.3769121   0.73920875 -1.0082286 ]\n",
      " [ 2.10069201 -0.06055869 -0.09724428]\n",
      " [-0.10117233 -5.08346482  0.0357333 ]\n",
      " [-1.63334123  3.25638126  0.25749692]\n",
      " [ 1.78240667  0.2672489  -0.33806042]]\n",
      "Max force: 6.736032890604939\n"
     ]
    }
   ],
   "source": [
    "calc = lammps.UFLammps(lmpcmds=[\"pair_style table spline 1000\",\n",
    "                                \"pair_coeff * * table_test/W.table UF_W-W 5.5\"],\n",
    "                       keep_alive=True)\n",
    "geom = df_data.iloc[3000]['geometry'].copy()  # 12-atom cell\n",
    "geom.set_calculator(calc)\n",
    "print(\"Energy:\", geom.get_potential_energy())\n",
    "print(\"Stresses (numerical):\", geom.get_stress())\n",
    "print(\"Forces:\\n\", geom.get_forces())\n",
    "print(\"Max force:\", np.max(np.abs(geom.get_forces())))\n",
    "del calc"
   ]
  },
  {
   "cell_type": "code",
   "execution_count": 61,
   "metadata": {
    "ExecuteTime": {
     "end_time": "2022-07-23T20:35:48.180817Z",
     "start_time": "2022-07-23T20:35:48.159871Z"
    }
   },
   "outputs": [
    {
     "name": "stdout",
     "output_type": "stream",
     "text": [
      "Relaxation Steps: 96\n",
      "Energy: -40.45526970514733\n",
      "Stresses (numerical): [-0.03056265  0.00534184  0.02522052  0.00658642 -0.01849611 -0.04036679]\n",
      "Forces:\n",
      " [[-0.00932412  0.00108845  0.0037133 ]\n",
      " [-0.00770538  0.00916022 -0.001408  ]\n",
      " [ 0.01600974  0.00277239 -0.0029679 ]\n",
      " [ 0.00052542 -0.00275431 -0.00184305]\n",
      " [-0.01227637  0.00703248  0.00533529]\n",
      " [ 0.00683997 -0.00875213  0.00534898]\n",
      " [ 0.00657954 -0.00175415 -0.00487387]\n",
      " [ 0.00421104  0.00285633 -0.00125897]\n",
      " [ 0.000371   -0.00499479 -0.00232729]\n",
      " [ 0.00617072 -0.00231353 -0.00279275]\n",
      " [-0.00311078  0.00403531  0.00084746]\n",
      " [-0.00829078 -0.00637626  0.0022268 ]]\n",
      "Max force: 0.016009737113210867\n"
     ]
    }
   ],
   "source": [
    "calc = lammps.UFLammps(lmpcmds=[\"pair_style table spline 1000\",\n",
    "                                \"pair_coeff * * table_test/W.table UF_W-W 5.5\"],\n",
    "                       keep_alive=True)\n",
    "calc.relax(geom)\n",
    "print('Relaxation Steps:', calc.results['nsteps'])\n",
    "geom.calc = calc\n",
    "print(\"Energy:\", geom.get_potential_energy())\n",
    "print(\"Stresses (numerical):\", geom.get_stress())\n",
    "lammps_forces = geom.get_forces()\n",
    "print(\"Forces:\\n\", lammps_forces)\n",
    "print(\"Max force:\", np.max(lammps_forces))\n",
    "del calc"
   ]
  },
  {
   "cell_type": "code",
   "execution_count": null,
   "metadata": {},
   "outputs": [],
   "source": []
  }
 ],
 "metadata": {
  "kernelspec": {
   "display_name": "Python 3 (ipykernel)",
   "language": "python",
   "name": "python3"
  },
  "language_info": {
   "codemirror_mode": {
    "name": "ipython",
    "version": 3
   },
   "file_extension": ".py",
   "mimetype": "text/x-python",
   "name": "python",
   "nbconvert_exporter": "python",
   "pygments_lexer": "ipython3",
   "version": "3.10.10"
  },
  "toc": {
   "base_numbering": 1,
   "nav_menu": {},
   "number_sections": true,
   "sideBar": true,
   "skip_h1_title": false,
   "title_cell": "Table of Contents",
   "title_sidebar": "Contents",
   "toc_cell": false,
   "toc_position": {},
   "toc_section_display": true,
   "toc_window_display": false
  }
 },
 "nbformat": 4,
 "nbformat_minor": 1
}
